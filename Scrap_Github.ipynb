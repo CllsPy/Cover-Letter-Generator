{
  "nbformat": 4,
  "nbformat_minor": 0,
  "metadata": {
    "colab": {
      "provenance": []
    },
    "kernelspec": {
      "name": "python3",
      "display_name": "Python 3"
    },
    "language_info": {
      "name": "python"
    }
  },
  "cells": [
    {
      "cell_type": "code",
      "execution_count": 3,
      "metadata": {
        "id": "uQ_r5rGKgk96"
      },
      "outputs": [],
      "source": [
        "%%capture\n",
        "!pip install pygithub"
      ]
    },
    {
      "cell_type": "markdown",
      "source": [
        "## Resources\n",
        "\n",
        "- [ ] [REST API endpoints for users - GitHub Docs](https://docs.github.com/en/rest/users?apiVersion=2022-11-28)\n",
        "- [ ] [Mining the social web](https://github.com/mikhailklassen/Mining-the-Social-Web-3rd-Edition)\n",
        "- [ ] [Managing your personal access tokens](https://docs.github.com/en/authentication/keeping-your-account-and-data-secure/managing-your-personal-access-tokens)"
      ],
      "metadata": {
        "id": "eZcVT2Dngtef"
      }
    },
    {
      "cell_type": "markdown",
      "source": [
        "## Code"
      ],
      "metadata": {
        "id": "1MouHz9khEUb"
      }
    },
    {
      "cell_type": "markdown",
      "source": [
        "Using PyGithub to query for stargazers of a particular repository"
      ],
      "metadata": {
        "id": "utv63RRlrMzZ"
      }
    },
    {
      "cell_type": "code",
      "source": [
        "from github import Github\n",
        "\n",
        "# XXX: Specify your own access token here\n",
        "\n",
        "ACCESS_TOKEN = ''\n",
        "\n",
        "# Specify a username and repository of interest for that user.\n",
        "\n",
        "USER = 'ptwobrussell'\n",
        "REPO = 'Mining-the-Social-Web'\n",
        "#REPO = 'Mining-the-Social-Web-2nd-Edition'\n",
        "\n",
        "client = Github(ACCESS_TOKEN, per_page=100)\n",
        "user = client.get_user(USER)\n",
        "repo = user.get_repo(REPO)\n",
        "\n",
        "# Get a list of people who have bookmarked the repo.\n",
        "# Since you'll get a lazy iterator back, you have to traverse\n",
        "# it if you want to get the total number of stargazers.\n",
        "\n",
        "stargazers = [ s for s in repo.get_stargazers() ]\n",
        "print(\"Number of stargazers\", len(stargazers))"
      ],
      "metadata": {
        "colab": {
          "base_uri": "https://localhost:8080/"
        },
        "id": "F2HLTvwcxB5w",
        "outputId": "ba70fe59-17da-4628-8abb-47509012a6dc"
      },
      "execution_count": 4,
      "outputs": [
        {
          "output_type": "stream",
          "name": "stdout",
          "text": [
            "Number of stargazers 1208\n"
          ]
        }
      ]
    }
  ]
}