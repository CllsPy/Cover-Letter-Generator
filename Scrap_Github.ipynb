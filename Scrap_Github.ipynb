{
  "nbformat": 4,
  "nbformat_minor": 0,
  "metadata": {
    "colab": {
      "provenance": [],
      "collapsed_sections": [
        "VSKcPqhKPFaO",
        "RBaFDMUdXTSA",
        "4Wy61xOUXPpk"
      ]
    },
    "kernelspec": {
      "name": "python3",
      "display_name": "Python 3"
    },
    "language_info": {
      "name": "python"
    }
  },
  "cells": [
    {
      "cell_type": "markdown",
      "source": [
        "## Shell"
      ],
      "metadata": {
        "id": "qwCRFAOzpZro"
      }
    },
    {
      "cell_type": "code",
      "execution_count": null,
      "metadata": {
        "id": "uQ_r5rGKgk96"
      },
      "outputs": [],
      "source": [
        "%%capture\n",
        "!pip install pygithub networkx"
      ]
    },
    {
      "cell_type": "code",
      "source": [
        "import networkx as nx\n",
        "from github import Github"
      ],
      "metadata": {
        "id": "o5oFsDWVQFh3"
      },
      "execution_count": null,
      "outputs": []
    },
    {
      "cell_type": "markdown",
      "source": [
        "## Resources\n",
        "\n",
        "- [ ] [REST API endpoints for users - GitHub Docs](https://docs.github.com/en/rest/users?apiVersion=2022-11-28)\n",
        "- [ ] [Mining the social web](https://github.com/mikhailklassen/Mining-the-Social-Web-3rd-Edition)\n",
        "- [ ] [Managing your personal access tokens](https://docs.github.com/en/authentication/keeping-your-account-and-data-secure/managing-your-personal-access-tokens)\n",
        "- [ ] [Introduction to Graph Theory: A Computer Science Perspective](https://www.youtube.com/watch?v=LFKZLXVO-Dg)\n",
        "- [ ] [AttributeError: module 'networkx' has no attribute 'info'](https://stackoverflow.com/questions/75897778/attributeerror-module-networkx-has-no-attribute-info)\n",
        "- [ ] [Is there a way to get raw format of a ContentFile?](https://github.com/PyGithub/PyGithub/issues/576)"
      ],
      "metadata": {
        "id": "eZcVT2Dngtef"
      }
    },
    {
      "cell_type": "markdown",
      "source": [
        "## Code"
      ],
      "metadata": {
        "id": "1MouHz9khEUb"
      }
    },
    {
      "cell_type": "markdown",
      "source": [
        "Using PyGithub to query for stargazers of a particular repository"
      ],
      "metadata": {
        "id": "utv63RRlrMzZ"
      }
    },
    {
      "cell_type": "code",
      "source": [
        "# XXX: Specify your own access token here\n",
        "ACCESS_TOKEN = ''\n",
        "\n",
        "# Specify a username and repository of interest for that user.\n",
        "USER = 'CllsPy'\n",
        "REPO = 'Cllspy'\n",
        "\n",
        "client = Github(ACCESS_TOKEN, per_page=100)\n",
        "user = client.get_user(USER)\n",
        "repo = user.get_repo(REPO)\n",
        "\n",
        "# Get a list of people who have bookmarked the repo.\n",
        "# Since you'll get a lazy iterator back, you have to traverse\n",
        "# it if you want to get the total number of stargazers.\n",
        "\n",
        "# stargazers = [ s for s in repo.get_stargazers() ]\n",
        "# print(\"Number of stargazers\", len(stargazers))\n",
        "\n",
        "# Obter o arquivo que contém informações\n",
        "# pessoas como interesses, linguagens.\n",
        "contents = repo.get_contents('README.md')\n",
        "raw_data = contents.decoded_content"
      ],
      "metadata": {
        "id": "F2HLTvwcxB5w"
      },
      "execution_count": 20,
      "outputs": []
    },
    {
      "cell_type": "markdown",
      "source": [
        "`outout`"
      ],
      "metadata": {
        "id": "X8_iUYjlpOrA"
      }
    },
    {
      "cell_type": "markdown",
      "source": [
        "b'# Carlos L.\\n\\nWelcome to my personal space! Here\\xe2\\x80\\x99s a bit about me:\\n\\n- **AI Safety**: Dedicated to ensuring the safe development and deployment of artificial intelligence technologies.\\n- **Writing**: Passionate about clear, impactful writing and communication.\\n- **Math**: Enthusiastic about exploring and solving mathematical challenges.\\n\\n### Languages and Skills\\n\\n![Python](https://img.shields.io/badge/Python-3776AB?style=flat&logo=python&logoColor=white)\\n![Go](https://img.shields.io/badge/Go-00ADD8?style=flat&logo=go&logoColor=white)\\n![Machine Learning](https://img.shields.io/badge/Machine%20Learning-F7C800?style=flat&logo=google-cloud&logoColor=white)\\n\\n### My Blog\\n\\nCheck out my blog [CllTorch Blog](https://cllspy.github.io/CllTorch-Blog/) for more insights and updates.\\n\\n### My Kaggle Account\\n\\nVisit my [Kaggle Account](https://www.kaggle.com/carloscll) to see my work and projects.\\n'"
      ],
      "metadata": {
        "id": "T7bTurMDpM_I"
      }
    }
  ]
}